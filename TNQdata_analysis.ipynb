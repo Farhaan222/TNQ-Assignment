{
 "cells": [
  {
   "cell_type": "markdown",
   "id": "abf71aaf",
   "metadata": {},
   "source": [
    "<h1>Importing libraries</h1>"
   ]
  },
  {
   "cell_type": "code",
   "execution_count": 114,
   "id": "4049df47",
   "metadata": {},
   "outputs": [],
   "source": [
    "import pandas as pd\n",
    "import matplotlib.pyplot as plt\n",
    "import seaborn as sns\n",
    "from sklearn.preprocessing import LabelEncoder"
   ]
  },
  {
   "cell_type": "markdown",
   "id": "26d8d597",
   "metadata": {},
   "source": [
    "<h1>Importing Data</h1>"
   ]
  },
  {
   "cell_type": "code",
   "execution_count": 122,
   "id": "afa7ff38",
   "metadata": {},
   "outputs": [],
   "source": [
    "data =pd.read_csv('world_population.csv')"
   ]
  },
  {
   "cell_type": "code",
   "execution_count": 123,
   "id": "eaf185da",
   "metadata": {},
   "outputs": [
    {
     "data": {
      "text/html": [
       "<div>\n",
       "<style scoped>\n",
       "    .dataframe tbody tr th:only-of-type {\n",
       "        vertical-align: middle;\n",
       "    }\n",
       "\n",
       "    .dataframe tbody tr th {\n",
       "        vertical-align: top;\n",
       "    }\n",
       "\n",
       "    .dataframe thead th {\n",
       "        text-align: right;\n",
       "    }\n",
       "</style>\n",
       "<table border=\"1\" class=\"dataframe\">\n",
       "  <thead>\n",
       "    <tr style=\"text-align: right;\">\n",
       "      <th></th>\n",
       "      <th>Rank</th>\n",
       "      <th>CCA3</th>\n",
       "      <th>Country</th>\n",
       "      <th>Capital</th>\n",
       "      <th>Continent</th>\n",
       "      <th>2022 Population</th>\n",
       "      <th>2020 Population</th>\n",
       "      <th>2015 Population</th>\n",
       "      <th>2010 Population</th>\n",
       "      <th>2000 Population</th>\n",
       "      <th>1990 Population</th>\n",
       "      <th>1980 Population</th>\n",
       "      <th>1970 Population</th>\n",
       "      <th>Area (km²)</th>\n",
       "      <th>Density (per km²)</th>\n",
       "      <th>Growth Rate</th>\n",
       "      <th>World Population Percentage</th>\n",
       "    </tr>\n",
       "  </thead>\n",
       "  <tbody>\n",
       "    <tr>\n",
       "      <th>0</th>\n",
       "      <td>36</td>\n",
       "      <td>AFG</td>\n",
       "      <td>Afghanistan</td>\n",
       "      <td>Kabul</td>\n",
       "      <td>Asia</td>\n",
       "      <td>41128771</td>\n",
       "      <td>38972230</td>\n",
       "      <td>33753499</td>\n",
       "      <td>28189672</td>\n",
       "      <td>19542982</td>\n",
       "      <td>10694796</td>\n",
       "      <td>12486631</td>\n",
       "      <td>10752971</td>\n",
       "      <td>652230</td>\n",
       "      <td>63.0587</td>\n",
       "      <td>1.0257</td>\n",
       "      <td>0.52</td>\n",
       "    </tr>\n",
       "    <tr>\n",
       "      <th>1</th>\n",
       "      <td>138</td>\n",
       "      <td>ALB</td>\n",
       "      <td>Albania</td>\n",
       "      <td>Tirana</td>\n",
       "      <td>Europe</td>\n",
       "      <td>2842321</td>\n",
       "      <td>2866849</td>\n",
       "      <td>2882481</td>\n",
       "      <td>2913399</td>\n",
       "      <td>3182021</td>\n",
       "      <td>3295066</td>\n",
       "      <td>2941651</td>\n",
       "      <td>2324731</td>\n",
       "      <td>28748</td>\n",
       "      <td>98.8702</td>\n",
       "      <td>0.9957</td>\n",
       "      <td>0.04</td>\n",
       "    </tr>\n",
       "    <tr>\n",
       "      <th>2</th>\n",
       "      <td>34</td>\n",
       "      <td>DZA</td>\n",
       "      <td>Algeria</td>\n",
       "      <td>Algiers</td>\n",
       "      <td>Africa</td>\n",
       "      <td>44903225</td>\n",
       "      <td>43451666</td>\n",
       "      <td>39543154</td>\n",
       "      <td>35856344</td>\n",
       "      <td>30774621</td>\n",
       "      <td>25518074</td>\n",
       "      <td>18739378</td>\n",
       "      <td>13795915</td>\n",
       "      <td>2381741</td>\n",
       "      <td>18.8531</td>\n",
       "      <td>1.0164</td>\n",
       "      <td>0.56</td>\n",
       "    </tr>\n",
       "    <tr>\n",
       "      <th>3</th>\n",
       "      <td>213</td>\n",
       "      <td>ASM</td>\n",
       "      <td>American Samoa</td>\n",
       "      <td>Pago Pago</td>\n",
       "      <td>Oceania</td>\n",
       "      <td>44273</td>\n",
       "      <td>46189</td>\n",
       "      <td>51368</td>\n",
       "      <td>54849</td>\n",
       "      <td>58230</td>\n",
       "      <td>47818</td>\n",
       "      <td>32886</td>\n",
       "      <td>27075</td>\n",
       "      <td>199</td>\n",
       "      <td>222.4774</td>\n",
       "      <td>0.9831</td>\n",
       "      <td>0.00</td>\n",
       "    </tr>\n",
       "    <tr>\n",
       "      <th>4</th>\n",
       "      <td>203</td>\n",
       "      <td>AND</td>\n",
       "      <td>Andorra</td>\n",
       "      <td>Andorra la Vella</td>\n",
       "      <td>Europe</td>\n",
       "      <td>79824</td>\n",
       "      <td>77700</td>\n",
       "      <td>71746</td>\n",
       "      <td>71519</td>\n",
       "      <td>66097</td>\n",
       "      <td>53569</td>\n",
       "      <td>35611</td>\n",
       "      <td>19860</td>\n",
       "      <td>468</td>\n",
       "      <td>170.5641</td>\n",
       "      <td>1.0100</td>\n",
       "      <td>0.00</td>\n",
       "    </tr>\n",
       "    <tr>\n",
       "      <th>...</th>\n",
       "      <td>...</td>\n",
       "      <td>...</td>\n",
       "      <td>...</td>\n",
       "      <td>...</td>\n",
       "      <td>...</td>\n",
       "      <td>...</td>\n",
       "      <td>...</td>\n",
       "      <td>...</td>\n",
       "      <td>...</td>\n",
       "      <td>...</td>\n",
       "      <td>...</td>\n",
       "      <td>...</td>\n",
       "      <td>...</td>\n",
       "      <td>...</td>\n",
       "      <td>...</td>\n",
       "      <td>...</td>\n",
       "      <td>...</td>\n",
       "    </tr>\n",
       "    <tr>\n",
       "      <th>229</th>\n",
       "      <td>226</td>\n",
       "      <td>WLF</td>\n",
       "      <td>Wallis and Futuna</td>\n",
       "      <td>Mata-Utu</td>\n",
       "      <td>Oceania</td>\n",
       "      <td>11572</td>\n",
       "      <td>11655</td>\n",
       "      <td>12182</td>\n",
       "      <td>13142</td>\n",
       "      <td>14723</td>\n",
       "      <td>13454</td>\n",
       "      <td>11315</td>\n",
       "      <td>9377</td>\n",
       "      <td>142</td>\n",
       "      <td>81.4930</td>\n",
       "      <td>0.9953</td>\n",
       "      <td>0.00</td>\n",
       "    </tr>\n",
       "    <tr>\n",
       "      <th>230</th>\n",
       "      <td>172</td>\n",
       "      <td>ESH</td>\n",
       "      <td>Western Sahara</td>\n",
       "      <td>El Aaiún</td>\n",
       "      <td>Africa</td>\n",
       "      <td>575986</td>\n",
       "      <td>556048</td>\n",
       "      <td>491824</td>\n",
       "      <td>413296</td>\n",
       "      <td>270375</td>\n",
       "      <td>178529</td>\n",
       "      <td>116775</td>\n",
       "      <td>76371</td>\n",
       "      <td>266000</td>\n",
       "      <td>2.1654</td>\n",
       "      <td>1.0184</td>\n",
       "      <td>0.01</td>\n",
       "    </tr>\n",
       "    <tr>\n",
       "      <th>231</th>\n",
       "      <td>46</td>\n",
       "      <td>YEM</td>\n",
       "      <td>Yemen</td>\n",
       "      <td>Sanaa</td>\n",
       "      <td>Asia</td>\n",
       "      <td>33696614</td>\n",
       "      <td>32284046</td>\n",
       "      <td>28516545</td>\n",
       "      <td>24743946</td>\n",
       "      <td>18628700</td>\n",
       "      <td>13375121</td>\n",
       "      <td>9204938</td>\n",
       "      <td>6843607</td>\n",
       "      <td>527968</td>\n",
       "      <td>63.8232</td>\n",
       "      <td>1.0217</td>\n",
       "      <td>0.42</td>\n",
       "    </tr>\n",
       "    <tr>\n",
       "      <th>232</th>\n",
       "      <td>63</td>\n",
       "      <td>ZMB</td>\n",
       "      <td>Zambia</td>\n",
       "      <td>Lusaka</td>\n",
       "      <td>Africa</td>\n",
       "      <td>20017675</td>\n",
       "      <td>18927715</td>\n",
       "      <td>16248230</td>\n",
       "      <td>13792086</td>\n",
       "      <td>9891136</td>\n",
       "      <td>7686401</td>\n",
       "      <td>5720438</td>\n",
       "      <td>4281671</td>\n",
       "      <td>752612</td>\n",
       "      <td>26.5976</td>\n",
       "      <td>1.0280</td>\n",
       "      <td>0.25</td>\n",
       "    </tr>\n",
       "    <tr>\n",
       "      <th>233</th>\n",
       "      <td>74</td>\n",
       "      <td>ZWE</td>\n",
       "      <td>Zimbabwe</td>\n",
       "      <td>Harare</td>\n",
       "      <td>Africa</td>\n",
       "      <td>16320537</td>\n",
       "      <td>15669666</td>\n",
       "      <td>14154937</td>\n",
       "      <td>12839771</td>\n",
       "      <td>11834676</td>\n",
       "      <td>10113893</td>\n",
       "      <td>7049926</td>\n",
       "      <td>5202918</td>\n",
       "      <td>390757</td>\n",
       "      <td>41.7665</td>\n",
       "      <td>1.0204</td>\n",
       "      <td>0.20</td>\n",
       "    </tr>\n",
       "  </tbody>\n",
       "</table>\n",
       "<p>234 rows × 17 columns</p>\n",
       "</div>"
      ],
      "text/plain": [
       "     Rank CCA3            Country           Capital Continent  \\\n",
       "0      36  AFG        Afghanistan             Kabul      Asia   \n",
       "1     138  ALB            Albania            Tirana    Europe   \n",
       "2      34  DZA            Algeria           Algiers    Africa   \n",
       "3     213  ASM     American Samoa         Pago Pago   Oceania   \n",
       "4     203  AND            Andorra  Andorra la Vella    Europe   \n",
       "..    ...  ...                ...               ...       ...   \n",
       "229   226  WLF  Wallis and Futuna          Mata-Utu   Oceania   \n",
       "230   172  ESH     Western Sahara          El Aaiún    Africa   \n",
       "231    46  YEM              Yemen             Sanaa      Asia   \n",
       "232    63  ZMB             Zambia            Lusaka    Africa   \n",
       "233    74  ZWE           Zimbabwe            Harare    Africa   \n",
       "\n",
       "     2022 Population  2020 Population  2015 Population  2010 Population  \\\n",
       "0           41128771         38972230         33753499         28189672   \n",
       "1            2842321          2866849          2882481          2913399   \n",
       "2           44903225         43451666         39543154         35856344   \n",
       "3              44273            46189            51368            54849   \n",
       "4              79824            77700            71746            71519   \n",
       "..               ...              ...              ...              ...   \n",
       "229            11572            11655            12182            13142   \n",
       "230           575986           556048           491824           413296   \n",
       "231         33696614         32284046         28516545         24743946   \n",
       "232         20017675         18927715         16248230         13792086   \n",
       "233         16320537         15669666         14154937         12839771   \n",
       "\n",
       "     2000 Population  1990 Population  1980 Population  1970 Population  \\\n",
       "0           19542982         10694796         12486631         10752971   \n",
       "1            3182021          3295066          2941651          2324731   \n",
       "2           30774621         25518074         18739378         13795915   \n",
       "3              58230            47818            32886            27075   \n",
       "4              66097            53569            35611            19860   \n",
       "..               ...              ...              ...              ...   \n",
       "229            14723            13454            11315             9377   \n",
       "230           270375           178529           116775            76371   \n",
       "231         18628700         13375121          9204938          6843607   \n",
       "232          9891136          7686401          5720438          4281671   \n",
       "233         11834676         10113893          7049926          5202918   \n",
       "\n",
       "     Area (km²)  Density (per km²)  Growth Rate  World Population Percentage  \n",
       "0        652230            63.0587       1.0257                         0.52  \n",
       "1         28748            98.8702       0.9957                         0.04  \n",
       "2       2381741            18.8531       1.0164                         0.56  \n",
       "3           199           222.4774       0.9831                         0.00  \n",
       "4           468           170.5641       1.0100                         0.00  \n",
       "..          ...                ...          ...                          ...  \n",
       "229         142            81.4930       0.9953                         0.00  \n",
       "230      266000             2.1654       1.0184                         0.01  \n",
       "231      527968            63.8232       1.0217                         0.42  \n",
       "232      752612            26.5976       1.0280                         0.25  \n",
       "233      390757            41.7665       1.0204                         0.20  \n",
       "\n",
       "[234 rows x 17 columns]"
      ]
     },
     "execution_count": 123,
     "metadata": {},
     "output_type": "execute_result"
    }
   ],
   "source": [
    "data"
   ]
  },
  {
   "cell_type": "markdown",
   "id": "44cc48a4",
   "metadata": {},
   "source": [
    "<h1>Exploratory data analysis<br><h1><h3>1.To know basic information</h3>"
   ]
  },
  {
   "cell_type": "code",
   "execution_count": 5,
   "id": "4e75c604",
   "metadata": {
    "scrolled": true
   },
   "outputs": [
    {
     "name": "stdout",
     "output_type": "stream",
     "text": [
      "<class 'pandas.core.frame.DataFrame'>\n",
      "RangeIndex: 234 entries, 0 to 233\n",
      "Data columns (total 17 columns):\n",
      " #   Column                       Non-Null Count  Dtype  \n",
      "---  ------                       --------------  -----  \n",
      " 0   Rank                         234 non-null    int64  \n",
      " 1   CCA3                         234 non-null    object \n",
      " 2   Country                      234 non-null    object \n",
      " 3   Capital                      234 non-null    object \n",
      " 4   Continent                    234 non-null    object \n",
      " 5   2022 Population              234 non-null    int64  \n",
      " 6   2020 Population              234 non-null    int64  \n",
      " 7   2015 Population              234 non-null    int64  \n",
      " 8   2010 Population              234 non-null    int64  \n",
      " 9   2000 Population              234 non-null    int64  \n",
      " 10  1990 Population              234 non-null    int64  \n",
      " 11  1980 Population              234 non-null    int64  \n",
      " 12  1970 Population              234 non-null    int64  \n",
      " 13  Area (km²)                   234 non-null    int64  \n",
      " 14  Density (per km²)            234 non-null    float64\n",
      " 15  Growth Rate                  234 non-null    float64\n",
      " 16  World Population Percentage  234 non-null    float64\n",
      "dtypes: float64(3), int64(10), object(4)\n",
      "memory usage: 31.2+ KB\n"
     ]
    }
   ],
   "source": [
    "data.info()"
   ]
  },
  {
   "cell_type": "markdown",
   "id": "b645986b",
   "metadata": {},
   "source": [
    "<h3>2.To check null values</h3>"
   ]
  },
  {
   "cell_type": "code",
   "execution_count": 116,
   "id": "2e64eb71",
   "metadata": {
    "scrolled": false
   },
   "outputs": [
    {
     "data": {
      "text/plain": [
       "Rank                           0\n",
       "CCA3                           0\n",
       "Country                        0\n",
       "Capital                        0\n",
       "Continent                      0\n",
       "2022 Population                0\n",
       "2020 Population                0\n",
       "2015 Population                0\n",
       "2010 Population                0\n",
       "2000 Population                0\n",
       "1990 Population                0\n",
       "1980 Population                0\n",
       "1970 Population                0\n",
       "Area (km²)                     0\n",
       "Density (per km²)              0\n",
       "Growth Rate                    0\n",
       "World Population Percentage    0\n",
       "dtype: int64"
      ]
     },
     "execution_count": 116,
     "metadata": {},
     "output_type": "execute_result"
    }
   ],
   "source": [
    "data.isnull().sum()"
   ]
  },
  {
   "cell_type": "markdown",
   "id": "b3554a49",
   "metadata": {},
   "source": [
    "<h3>3.To check any unknown value as a special character in dataset"
   ]
  },
  {
   "cell_type": "code",
   "execution_count": 33,
   "id": "51714ca6",
   "metadata": {},
   "outputs": [
    {
     "data": {
      "text/plain": [
       "Index(['CCA3', 'Country', 'Capital', 'Continent'], dtype='object')"
      ]
     },
     "execution_count": 33,
     "metadata": {},
     "output_type": "execute_result"
    }
   ],
   "source": [
    "Object_Col = data.columns[1:5]\n",
    "Object_Col"
   ]
  },
  {
   "cell_type": "code",
   "execution_count": 39,
   "id": "3447a2de",
   "metadata": {},
   "outputs": [
    {
     "data": {
      "text/plain": [
       "Index(['2022 Population', '2020 Population', '2015 Population',\n",
       "       '2010 Population', '2000 Population', '1990 Population',\n",
       "       '1980 Population', '1970 Population', 'Area (km²)', 'Density (per km²)',\n",
       "       'Growth Rate', 'World Population Percentage'],\n",
       "      dtype='object')"
      ]
     },
     "execution_count": 39,
     "metadata": {},
     "output_type": "execute_result"
    }
   ],
   "source": [
    "Continous_Col=data.columns[5:]\n",
    "Continous_Col"
   ]
  },
  {
   "cell_type": "code",
   "execution_count": 32,
   "id": "21cade7e",
   "metadata": {
    "scrolled": true
   },
   "outputs": [
    {
     "name": "stdout",
     "output_type": "stream",
     "text": [
      "There is a Special Character in Country The Values is  Guinea-Bissau\n",
      "There is a Special Character in Country The Values is  Timor-Leste\n",
      "There is a Special Character in Capital The Values is  Porto-Novo\n",
      "There is a Special Character in Capital The Values is  N'Djamena\n",
      "There is a Special Character in Capital The Values is  Basse-Terre\n",
      "There is a Special Character in Capital The Values is  Port-au-Prince\n",
      "There is a Special Character in Capital The Values is  Fort-de-France\n",
      "There is a Special Character in Capital The Values is  Saint-Denis\n",
      "There is a Special Character in Capital The Values is  Saint-Pierre\n",
      "There is a Special Character in Capital The Values is  Nuku‘alofa\n",
      "There is a Special Character in Capital The Values is  Port-of-Spain\n",
      "There is a Special Character in Capital The Values is  Port-Vila\n",
      "There is a Special Character in Capital The Values is  Mata-Utu\n"
     ]
    }
   ],
   "source": [
    "for i in Object_Col:\n",
    "    for j in data[i]:\n",
    "        if(j.isalpha() or \" \" in j):\n",
    "            continue\n",
    "        else:\n",
    "            print(\"There is a Special Character in\",i,\"The Values is \",j)"
   ]
  },
  {
   "cell_type": "markdown",
   "id": "e2d75000",
   "metadata": {},
   "source": [
    "<h4>As a result above there are no unknown value as a special character</h4><br><h3>4.Basic Visualization for the continous data"
   ]
  },
  {
   "cell_type": "code",
   "execution_count": 58,
   "id": "afa8cfa1",
   "metadata": {
    "scrolled": true
   },
   "outputs": [
    {
     "data": {
      "image/png": "[encoded data removed]",
      "text/plain": [
       "<Figure size 1440x1080 with 12 Axes>"
      ]
     },
     "metadata": {
      "needs_background": "light"
     },
     "output_type": "display_data"
    }
   ],
   "source": [
    "plt.figure(figsize=[20,15])\n",
    "index = 1\n",
    "for i in Continous_Col:\n",
    "    plt.subplot(4,3,index)\n",
    "    sns.histplot(data[i])\n",
    "    index+=1"
   ]
  },
  {
   "cell_type": "markdown",
   "id": "d3157c02",
   "metadata": {},
   "source": [
    "<h3>5.Checking the Linear relationship</h3>"
   ]
  },
  {
   "cell_type": "code",
   "execution_count": 81,
   "id": "8799e113",
   "metadata": {
    "scrolled": false
   },
   "outputs": [
    {
     "data": {
      "text/plain": [
       "<matplotlib.collections.PathCollection at 0x269cd7e2700>"
      ]
     },
     "execution_count": 81,
     "metadata": {},
     "output_type": "execute_result"
    },
    {
     "data": {
      "image/png": "[encoded data removed]",
      "text/plain": [
       "<Figure size 432x288 with 1 Axes>"
      ]
     },
     "metadata": {
      "needs_background": "light"
     },
     "output_type": "display_data"
    }
   ],
   "source": [
    "plt.scatter(data['World Population Percentage'],data['2022 Population'])"
   ]
  },
  {
   "cell_type": "code",
   "execution_count": 82,
   "id": "14116bcb",
   "metadata": {},
   "outputs": [
    {
     "data": {
      "text/plain": [
       "<matplotlib.collections.PathCollection at 0x269cd8582b0>"
      ]
     },
     "execution_count": 82,
     "metadata": {},
     "output_type": "execute_result"
    },
    {
     "data": {
      "image/png": "[encoded data removed]",
      "text/plain": [
       "<Figure size 432x288 with 1 Axes>"
      ]
     },
     "metadata": {
      "needs_background": "light"
     },
     "output_type": "display_data"
    }
   ],
   "source": [
    "plt.scatter(data['World Population Percentage'],data['2022 Population'])"
   ]
  },
  {
   "cell_type": "code",
   "execution_count": 83,
   "id": "ed61432a",
   "metadata": {},
   "outputs": [
    {
     "data": {
      "text/plain": [
       "<matplotlib.collections.PathCollection at 0x269cd8bdb80>"
      ]
     },
     "execution_count": 83,
     "metadata": {},
     "output_type": "execute_result"
    },
    {
     "data": {
      "image/png": "[encoded data removed]",
      "text/plain": [
       "<Figure size 432x288 with 1 Axes>"
      ]
     },
     "metadata": {
      "needs_background": "light"
     },
     "output_type": "display_data"
    }
   ],
   "source": [
    "plt.scatter(data['World Population Percentage'],data['2020 Population'])"
   ]
  },
  {
   "cell_type": "code",
   "execution_count": 84,
   "id": "bb3447df",
   "metadata": {},
   "outputs": [
    {
     "data": {
      "text/plain": [
       "<matplotlib.collections.PathCollection at 0x269cd92f790>"
      ]
     },
     "execution_count": 84,
     "metadata": {},
     "output_type": "execute_result"
    },
    {
     "data": {
      "image/png": "[encoded data removed]",
      "text/plain": [
       "<Figure size 432x288 with 1 Axes>"
      ]
     },
     "metadata": {
      "needs_background": "light"
     },
     "output_type": "display_data"
    }
   ],
   "source": [
    "plt.scatter(data['World Population Percentage'],data['2015 Population'])"
   ]
  },
  {
   "cell_type": "code",
   "execution_count": 85,
   "id": "09aa78e8",
   "metadata": {},
   "outputs": [
    {
     "data": {
      "text/plain": [
       "<matplotlib.collections.PathCollection at 0x269cd9a1550>"
      ]
     },
     "execution_count": 85,
     "metadata": {},
     "output_type": "execute_result"
    },
    {
     "data": {
      "image/png": "[encoded data removed]",
      "text/plain": [
       "<Figure size 432x288 with 1 Axes>"
      ]
     },
     "metadata": {
      "needs_background": "light"
     },
     "output_type": "display_data"
    }
   ],
   "source": [
    "plt.scatter(data['World Population Percentage'],data['2010 Population'])"
   ]
  },
  {
   "cell_type": "code",
   "execution_count": 86,
   "id": "d14ca07c",
   "metadata": {},
   "outputs": [
    {
     "data": {
      "text/plain": [
       "<matplotlib.collections.PathCollection at 0x269cdb573d0>"
      ]
     },
     "execution_count": 86,
     "metadata": {},
     "output_type": "execute_result"
    },
    {
     "data": {
      "image/png": "[encoded data removed]",
      "text/plain": [
       "<Figure size 432x288 with 1 Axes>"
      ]
     },
     "metadata": {
      "needs_background": "light"
     },
     "output_type": "display_data"
    }
   ],
   "source": [
    "plt.scatter(data['World Population Percentage'],data['1990 Population'])"
   ]
  },
  {
   "cell_type": "code",
   "execution_count": 87,
   "id": "69c30eaa",
   "metadata": {},
   "outputs": [
    {
     "data": {
      "text/plain": [
       "<matplotlib.collections.PathCollection at 0x269cdbbc7f0>"
      ]
     },
     "execution_count": 87,
     "metadata": {},
     "output_type": "execute_result"
    },
    {
     "data": {
      "image/png": "[encoded data removed]",
      "text/plain": [
       "<Figure size 432x288 with 1 Axes>"
      ]
     },
     "metadata": {
      "needs_background": "light"
     },
     "output_type": "display_data"
    }
   ],
   "source": [
    "plt.scatter(data['World Population Percentage'],data['1980 Population'])"
   ]
  },
  {
   "cell_type": "code",
   "execution_count": 91,
   "id": "e2875ff2",
   "metadata": {},
   "outputs": [
    {
     "data": {
      "text/plain": [
       "<matplotlib.collections.PathCollection at 0x269cfd1e550>"
      ]
     },
     "execution_count": 91,
     "metadata": {},
     "output_type": "execute_result"
    },
    {
     "data": {
      "image/png": "[encoded data removed]",
      "text/plain": [
       "<Figure size 432x288 with 1 Axes>"
      ]
     },
     "metadata": {
      "needs_background": "light"
     },
     "output_type": "display_data"
    }
   ],
   "source": [
    "plt.scatter(data['1970 Population'],data['World Population Percentage'])"
   ]
  },
  {
   "cell_type": "code",
   "execution_count": 90,
   "id": "2bc8fb8b",
   "metadata": {},
   "outputs": [
    {
     "data": {
      "text/plain": [
       "<matplotlib.collections.PathCollection at 0x269cfcac970>"
      ]
     },
     "execution_count": 90,
     "metadata": {},
     "output_type": "execute_result"
    },
    {
     "data": {
      "image/png": "[encoded data removed]",
      "text/plain": [
       "<Figure size 432x288 with 1 Axes>"
      ]
     },
     "metadata": {
      "needs_background": "light"
     },
     "output_type": "display_data"
    }
   ],
   "source": [
    "plt.scatter(data['Growth Rate'],data['World Population Percentage'])"
   ]
  },
  {
   "cell_type": "markdown",
   "id": "2aa7a406",
   "metadata": {},
   "source": [
    "<h3>6.Count plot for discrete data</h3>"
   ]
  },
  {
   "cell_type": "code",
   "execution_count": 125,
   "id": "f66a7f65",
   "metadata": {
    "scrolled": true
   },
   "outputs": [
    {
     "name": "stderr",
     "output_type": "stream",
     "text": [
      "E:\\Anaconda\\lib\\site-packages\\seaborn\\_decorators.py:36: FutureWarning: Pass the following variable as a keyword arg: x. From version 0.12, the only valid positional argument will be `data`, and passing other arguments without an explicit keyword will result in an error or misinterpretation.\n",
      "  warnings.warn(\n"
     ]
    },
    {
     "data": {
      "text/plain": [
       "<AxesSubplot:xlabel='Continent', ylabel='count'>"
      ]
     },
     "execution_count": 125,
     "metadata": {},
     "output_type": "execute_result"
    },
    {
     "data": {
      "image/png": "[encoded data removed]",
      "text/plain": [
       "<Figure size 1440x720 with 1 Axes>"
      ]
     },
     "metadata": {
      "needs_background": "light"
     },
     "output_type": "display_data"
    }
   ],
   "source": [
    "plt.figure(figsize=(20,10))\n",
    "sns.countplot(data.Continent)"
   ]
  },
  {
   "cell_type": "markdown",
   "id": "65da0b52",
   "metadata": {},
   "source": [
    "<h3>7.Sorting based on the rank<h3>"
   ]
  },
  {
   "cell_type": "code",
   "execution_count": 94,
   "id": "f5a1c487",
   "metadata": {},
   "outputs": [],
   "source": [
    "sorted_data = data.sort_values(by=[\"Rank\"])"
   ]
  },
  {
   "cell_type": "markdown",
   "id": "26e3512d",
   "metadata": {},
   "source": [
    "<h3>8.Dropping unnecessary data</h3>"
   ]
  },
  {
   "cell_type": "code",
   "execution_count": 100,
   "id": "fa0b1595",
   "metadata": {},
   "outputs": [],
   "source": [
    "sorted_data.drop(['Rank','CCA3','Capital','Country'],axis=1,inplace=True)"
   ]
  },
  {
   "cell_type": "code",
   "execution_count": 106,
   "id": "84a95ad9",
   "metadata": {},
   "outputs": [
    {
     "data": {
      "text/html": [
       "<div>\n",
       "<style scoped>\n",
       "    .dataframe tbody tr th:only-of-type {\n",
       "        vertical-align: middle;\n",
       "    }\n",
       "\n",
       "    .dataframe tbody tr th {\n",
       "        vertical-align: top;\n",
       "    }\n",
       "\n",
       "    .dataframe thead th {\n",
       "        text-align: right;\n",
       "    }\n",
       "</style>\n",
       "<table border=\"1\" class=\"dataframe\">\n",
       "  <thead>\n",
       "    <tr style=\"text-align: right;\">\n",
       "      <th></th>\n",
       "      <th>Continent</th>\n",
       "      <th>2022 Population</th>\n",
       "      <th>2020 Population</th>\n",
       "      <th>2015 Population</th>\n",
       "      <th>2010 Population</th>\n",
       "      <th>2000 Population</th>\n",
       "      <th>1990 Population</th>\n",
       "      <th>1980 Population</th>\n",
       "      <th>1970 Population</th>\n",
       "      <th>Area (km²)</th>\n",
       "      <th>Density (per km²)</th>\n",
       "      <th>Growth Rate</th>\n",
       "      <th>World Population Percentage</th>\n",
       "    </tr>\n",
       "  </thead>\n",
       "  <tbody>\n",
       "    <tr>\n",
       "      <th>41</th>\n",
       "      <td>1</td>\n",
       "      <td>1425887337</td>\n",
       "      <td>1424929781</td>\n",
       "      <td>1393715448</td>\n",
       "      <td>1348191368</td>\n",
       "      <td>1264099069</td>\n",
       "      <td>1153704252</td>\n",
       "      <td>982372466</td>\n",
       "      <td>822534450</td>\n",
       "      <td>9706961</td>\n",
       "      <td>146.8933</td>\n",
       "      <td>1.0000</td>\n",
       "      <td>17.88</td>\n",
       "    </tr>\n",
       "    <tr>\n",
       "      <th>92</th>\n",
       "      <td>1</td>\n",
       "      <td>1417173173</td>\n",
       "      <td>1396387127</td>\n",
       "      <td>1322866505</td>\n",
       "      <td>1240613620</td>\n",
       "      <td>1059633675</td>\n",
       "      <td>870452165</td>\n",
       "      <td>696828385</td>\n",
       "      <td>557501301</td>\n",
       "      <td>3287590</td>\n",
       "      <td>431.0675</td>\n",
       "      <td>1.0068</td>\n",
       "      <td>17.77</td>\n",
       "    </tr>\n",
       "    <tr>\n",
       "      <th>221</th>\n",
       "      <td>3</td>\n",
       "      <td>338289857</td>\n",
       "      <td>335942003</td>\n",
       "      <td>324607776</td>\n",
       "      <td>311182845</td>\n",
       "      <td>282398554</td>\n",
       "      <td>248083732</td>\n",
       "      <td>223140018</td>\n",
       "      <td>200328340</td>\n",
       "      <td>9372610</td>\n",
       "      <td>36.0935</td>\n",
       "      <td>1.0038</td>\n",
       "      <td>4.24</td>\n",
       "    </tr>\n",
       "    <tr>\n",
       "      <th>93</th>\n",
       "      <td>1</td>\n",
       "      <td>275501339</td>\n",
       "      <td>271857970</td>\n",
       "      <td>259091970</td>\n",
       "      <td>244016173</td>\n",
       "      <td>214072421</td>\n",
       "      <td>182159874</td>\n",
       "      <td>148177096</td>\n",
       "      <td>115228394</td>\n",
       "      <td>1904569</td>\n",
       "      <td>144.6529</td>\n",
       "      <td>1.0064</td>\n",
       "      <td>3.45</td>\n",
       "    </tr>\n",
       "    <tr>\n",
       "      <th>156</th>\n",
       "      <td>1</td>\n",
       "      <td>235824862</td>\n",
       "      <td>227196741</td>\n",
       "      <td>210969298</td>\n",
       "      <td>194454498</td>\n",
       "      <td>154369924</td>\n",
       "      <td>115414069</td>\n",
       "      <td>80624057</td>\n",
       "      <td>59290872</td>\n",
       "      <td>881912</td>\n",
       "      <td>267.4018</td>\n",
       "      <td>1.0191</td>\n",
       "      <td>2.96</td>\n",
       "    </tr>\n",
       "    <tr>\n",
       "      <th>...</th>\n",
       "      <td>...</td>\n",
       "      <td>...</td>\n",
       "      <td>...</td>\n",
       "      <td>...</td>\n",
       "      <td>...</td>\n",
       "      <td>...</td>\n",
       "      <td>...</td>\n",
       "      <td>...</td>\n",
       "      <td>...</td>\n",
       "      <td>...</td>\n",
       "      <td>...</td>\n",
       "      <td>...</td>\n",
       "      <td>...</td>\n",
       "    </tr>\n",
       "    <tr>\n",
       "      <th>137</th>\n",
       "      <td>3</td>\n",
       "      <td>4390</td>\n",
       "      <td>4500</td>\n",
       "      <td>5059</td>\n",
       "      <td>4938</td>\n",
       "      <td>5138</td>\n",
       "      <td>10805</td>\n",
       "      <td>11452</td>\n",
       "      <td>11402</td>\n",
       "      <td>102</td>\n",
       "      <td>43.0392</td>\n",
       "      <td>0.9939</td>\n",
       "      <td>0.00</td>\n",
       "    </tr>\n",
       "    <tr>\n",
       "      <th>64</th>\n",
       "      <td>5</td>\n",
       "      <td>3780</td>\n",
       "      <td>3747</td>\n",
       "      <td>3408</td>\n",
       "      <td>3187</td>\n",
       "      <td>3080</td>\n",
       "      <td>2332</td>\n",
       "      <td>2240</td>\n",
       "      <td>2274</td>\n",
       "      <td>12173</td>\n",
       "      <td>0.3105</td>\n",
       "      <td>1.0043</td>\n",
       "      <td>0.00</td>\n",
       "    </tr>\n",
       "    <tr>\n",
       "      <th>150</th>\n",
       "      <td>4</td>\n",
       "      <td>1934</td>\n",
       "      <td>1942</td>\n",
       "      <td>1847</td>\n",
       "      <td>1812</td>\n",
       "      <td>2074</td>\n",
       "      <td>2533</td>\n",
       "      <td>3637</td>\n",
       "      <td>5185</td>\n",
       "      <td>260</td>\n",
       "      <td>7.4385</td>\n",
       "      <td>0.9985</td>\n",
       "      <td>0.00</td>\n",
       "    </tr>\n",
       "    <tr>\n",
       "      <th>209</th>\n",
       "      <td>4</td>\n",
       "      <td>1871</td>\n",
       "      <td>1827</td>\n",
       "      <td>1454</td>\n",
       "      <td>1367</td>\n",
       "      <td>1666</td>\n",
       "      <td>1669</td>\n",
       "      <td>1647</td>\n",
       "      <td>1714</td>\n",
       "      <td>12</td>\n",
       "      <td>155.9167</td>\n",
       "      <td>1.0119</td>\n",
       "      <td>0.00</td>\n",
       "    </tr>\n",
       "    <tr>\n",
       "      <th>226</th>\n",
       "      <td>2</td>\n",
       "      <td>510</td>\n",
       "      <td>520</td>\n",
       "      <td>564</td>\n",
       "      <td>596</td>\n",
       "      <td>651</td>\n",
       "      <td>700</td>\n",
       "      <td>733</td>\n",
       "      <td>752</td>\n",
       "      <td>1</td>\n",
       "      <td>510.0000</td>\n",
       "      <td>0.9980</td>\n",
       "      <td>0.00</td>\n",
       "    </tr>\n",
       "  </tbody>\n",
       "</table>\n",
       "<p>234 rows × 13 columns</p>\n",
       "</div>"
      ],
      "text/plain": [
       "     Continent  2022 Population  2020 Population  2015 Population  \\\n",
       "41           1       1425887337       1424929781       1393715448   \n",
       "92           1       1417173173       1396387127       1322866505   \n",
       "221          3        338289857        335942003        324607776   \n",
       "93           1        275501339        271857970        259091970   \n",
       "156          1        235824862        227196741        210969298   \n",
       "..         ...              ...              ...              ...   \n",
       "137          3             4390             4500             5059   \n",
       "64           5             3780             3747             3408   \n",
       "150          4             1934             1942             1847   \n",
       "209          4             1871             1827             1454   \n",
       "226          2              510              520              564   \n",
       "\n",
       "     2010 Population  2000 Population  1990 Population  1980 Population  \\\n",
       "41        1348191368       1264099069       1153704252        982372466   \n",
       "92        1240613620       1059633675        870452165        696828385   \n",
       "221        311182845        282398554        248083732        223140018   \n",
       "93         244016173        214072421        182159874        148177096   \n",
       "156        194454498        154369924        115414069         80624057   \n",
       "..               ...              ...              ...              ...   \n",
       "137             4938             5138            10805            11452   \n",
       "64              3187             3080             2332             2240   \n",
       "150             1812             2074             2533             3637   \n",
       "209             1367             1666             1669             1647   \n",
       "226              596              651              700              733   \n",
       "\n",
       "     1970 Population  Area (km²)  Density (per km²)  Growth Rate  \\\n",
       "41         822534450     9706961           146.8933       1.0000   \n",
       "92         557501301     3287590           431.0675       1.0068   \n",
       "221        200328340     9372610            36.0935       1.0038   \n",
       "93         115228394     1904569           144.6529       1.0064   \n",
       "156         59290872      881912           267.4018       1.0191   \n",
       "..               ...         ...                ...          ...   \n",
       "137            11402         102            43.0392       0.9939   \n",
       "64              2274       12173             0.3105       1.0043   \n",
       "150             5185         260             7.4385       0.9985   \n",
       "209             1714          12           155.9167       1.0119   \n",
       "226              752           1           510.0000       0.9980   \n",
       "\n",
       "     World Population Percentage  \n",
       "41                         17.88  \n",
       "92                         17.77  \n",
       "221                         4.24  \n",
       "93                          3.45  \n",
       "156                         2.96  \n",
       "..                           ...  \n",
       "137                         0.00  \n",
       "64                          0.00  \n",
       "150                         0.00  \n",
       "209                         0.00  \n",
       "226                         0.00  \n",
       "\n",
       "[234 rows x 13 columns]"
      ]
     },
     "execution_count": 106,
     "metadata": {},
     "output_type": "execute_result"
    }
   ],
   "source": [
    "sorted_data"
   ]
  },
  {
   "cell_type": "code",
   "execution_count": 105,
   "id": "feb376b2",
   "metadata": {},
   "outputs": [],
   "source": [
    "sorted_data.Continent = LabelEncoder().fit_transform(sorted_data.Continent)"
   ]
  },
  {
   "cell_type": "markdown",
   "id": "f3119bf0",
   "metadata": {},
   "source": [
    "<h1>Feature Selection</h1>"
   ]
  },
  {
   "cell_type": "code",
   "execution_count": 92,
   "id": "ee41790c",
   "metadata": {},
   "outputs": [],
   "source": [
    "def correlation(dataset, threshold):\n",
    "    col_corr = set()\n",
    "    corr_matrix = dataset.corr()\n",
    "    for i in range(len(corr_matrix.columns)):\n",
    "        for j in range(i):\n",
    "            if abs(corr_matrix.iloc[i,j]) > threshold:\n",
    "                colname = corr_matrix.columns[i]\n",
    "                col_corr.add(colname)\n",
    "    return col_corr   "
   ]
  },
  {
   "cell_type": "code",
   "execution_count": 108,
   "id": "0ce6b9c8",
   "metadata": {},
   "outputs": [],
   "source": [
    "x =data.drop('World Population Percentage',axis=1)\n",
    "y =data['World Population Percentage']"
   ]
  },
  {
   "cell_type": "code",
   "execution_count": 113,
   "id": "dbe23670",
   "metadata": {
    "scrolled": true
   },
   "outputs": [
    {
     "data": {
      "text/plain": [
       "{'1970 Population',\n",
       " '1980 Population',\n",
       " '1990 Population',\n",
       " '2000 Population',\n",
       " '2010 Population',\n",
       " '2015 Population',\n",
       " '2020 Population'}"
      ]
     },
     "execution_count": 113,
     "metadata": {},
     "output_type": "execute_result"
    }
   ],
   "source": [
    "correlation(x,0.9)"
   ]
  },
  {
   "cell_type": "code",
   "execution_count": null,
   "id": "d3129738",
   "metadata": {},
   "outputs": [],
   "source": []
  },
  {
   "cell_type": "code",
   "execution_count": null,
   "id": "89d49b24",
   "metadata": {},
   "outputs": [],
   "source": []
  }
 ],
 "metadata": {
  "kernelspec": {
   "display_name": "Python 3 (ipykernel)",
   "language": "python",
   "name": "python3"
  },
  "language_info": {
   "codemirror_mode": {
    "name": "ipython",
    "version": 3
   },
   "file_extension": ".py",
   "mimetype": "text/x-python",
   "name": "python",
   "nbconvert_exporter": "python",
   "pygments_lexer": "ipython3",
   "version": "3.9.7"
  }
 },
 "nbformat": 4,
 "nbformat_minor": 5
}
